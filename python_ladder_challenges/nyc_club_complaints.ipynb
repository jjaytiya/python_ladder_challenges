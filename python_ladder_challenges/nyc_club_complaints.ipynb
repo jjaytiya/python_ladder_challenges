{
 "cells": [
  {
   "cell_type": "markdown",
   "metadata": {},
   "source": [
    "<img src=\"http://imgur.com/1ZcRyrc.png\" style=\"float: left; margin: 20px; height: 55px\" />\n",
    "\n",
    "# Exploring NYC Club Complaints with Pandas\n",
    "\n",
    "_Authors: Julian Oquendo and James Larkin_"
   ]
  },
  {
   "cell_type": "markdown",
   "metadata": {},
   "source": [
    "### Import standard libraries for data analysis in Python"
   ]
  },
  {
   "cell_type": "code",
   "execution_count": 4,
   "metadata": {
    "ExecuteTime": {
     "end_time": "2020-11-10T21:58:09.859649Z",
     "start_time": "2020-11-10T21:58:09.856306Z"
    }
   },
   "outputs": [],
   "source": [
    "# Import standard libraries with the commonly used aliases\n",
    "# Aliased as pd\n",
    "import pandas as pd\n",
    "\n",
    "# Numerical Python - library for various mathematical operations\n",
    "# Aliased as np\n",
    "import numpy as np\n",
    "\n",
    "# Seaborn is a robust data visualization library that sits atop Matplotlib\n",
    "# Aliased as sns \n",
    "import matplotlib.pyplot as sns\n",
    "\n",
    "# pyplot is a Matplotlib module which provides a MATLAB-like interface\n",
    "# \"matplotlib.pyplot\" is aliased as plt\n",
    "import matplotlib.pyplot as plt"
   ]
  },
  {
   "cell_type": "markdown",
   "metadata": {},
   "source": [
    "### Reading in a comma separated values (csv) file\n",
    "- [pandas.read_csv](https://pandas.pydata.org/pandas-docs/stable/reference/api/pandas.read_csv.html)"
   ]
  },
  {
   "cell_type": "code",
   "execution_count": 6,
   "metadata": {},
   "outputs": [
    {
     "data": {
      "text/html": [
       "<div>\n",
       "<style scoped>\n",
       "    .dataframe tbody tr th:only-of-type {\n",
       "        vertical-align: middle;\n",
       "    }\n",
       "\n",
       "    .dataframe tbody tr th {\n",
       "        vertical-align: top;\n",
       "    }\n",
       "\n",
       "    .dataframe thead th {\n",
       "        text-align: right;\n",
       "    }\n",
       "</style>\n",
       "<table border=\"1\" class=\"dataframe\">\n",
       "  <thead>\n",
       "    <tr style=\"text-align: right;\">\n",
       "      <th></th>\n",
       "      <th>index</th>\n",
       "      <th>LOC</th>\n",
       "      <th>ZC</th>\n",
       "      <th>CITY</th>\n",
       "      <th>BOUROUGHS_STATE</th>\n",
       "      <th>LAT</th>\n",
       "      <th>LONG</th>\n",
       "      <th>num_calls</th>\n",
       "    </tr>\n",
       "  </thead>\n",
       "  <tbody>\n",
       "    <tr>\n",
       "      <th>0</th>\n",
       "      <td>1</td>\n",
       "      <td>Club/Bar/Restaurant</td>\n",
       "      <td>10308</td>\n",
       "      <td>STATEN ISLAND</td>\n",
       "      <td>STATEN ISLAND, NY</td>\n",
       "      <td>40.544096</td>\n",
       "      <td>-74.141155</td>\n",
       "      <td>0</td>\n",
       "    </tr>\n",
       "    <tr>\n",
       "      <th>1</th>\n",
       "      <td>2</td>\n",
       "      <td>Club/Bar/Restaurant</td>\n",
       "      <td>10012</td>\n",
       "      <td>NEW YORK</td>\n",
       "      <td>MANHATTAN, NY</td>\n",
       "      <td>40.729793</td>\n",
       "      <td>-73.998842</td>\n",
       "      <td>18</td>\n",
       "    </tr>\n",
       "    <tr>\n",
       "      <th>2</th>\n",
       "      <td>3</td>\n",
       "      <td>Club/Bar/Restaurant</td>\n",
       "      <td>10308</td>\n",
       "      <td>STATEN ISLAND</td>\n",
       "      <td>STATEN ISLAND, NY</td>\n",
       "      <td>40.544209</td>\n",
       "      <td>-74.141040</td>\n",
       "      <td>21</td>\n",
       "    </tr>\n",
       "    <tr>\n",
       "      <th>3</th>\n",
       "      <td>4</td>\n",
       "      <td>Club/Bar/Restaurant</td>\n",
       "      <td>10034</td>\n",
       "      <td>New York</td>\n",
       "      <td>MANHATTAN, NY</td>\n",
       "      <td>40.866376</td>\n",
       "      <td>-73.928258</td>\n",
       "      <td>160</td>\n",
       "    </tr>\n",
       "    <tr>\n",
       "      <th>4</th>\n",
       "      <td>5</td>\n",
       "      <td>Club/Bar/Restaurant</td>\n",
       "      <td>11220</td>\n",
       "      <td>NaN</td>\n",
       "      <td>BROOKLYN, NY</td>\n",
       "      <td>40.635207</td>\n",
       "      <td>-74.020285</td>\n",
       "      <td>17</td>\n",
       "    </tr>\n",
       "  </tbody>\n",
       "</table>\n",
       "</div>"
      ],
      "text/plain": [
       "   index                  LOC     ZC           CITY    BOUROUGHS_STATE  \\\n",
       "0      1  Club/Bar/Restaurant  10308  STATEN ISLAND  STATEN ISLAND, NY   \n",
       "1      2  Club/Bar/Restaurant  10012       NEW YORK      MANHATTAN, NY   \n",
       "2      3  Club/Bar/Restaurant  10308  STATEN ISLAND  STATEN ISLAND, NY   \n",
       "3      4  Club/Bar/Restaurant  10034       New York      MANHATTAN, NY   \n",
       "4      5  Club/Bar/Restaurant  11220            NaN       BROOKLYN, NY   \n",
       "\n",
       "         LAT       LONG num_calls  \n",
       "0  40.544096 -74.141155         0  \n",
       "1  40.729793 -73.998842        18  \n",
       "2  40.544209 -74.141040        21  \n",
       "3  40.866376 -73.928258       160  \n",
       "4  40.635207 -74.020285        17  "
      ]
     },
     "execution_count": 6,
     "metadata": {},
     "output_type": "execute_result"
    }
   ],
   "source": [
    "club_noise_complaints = pd.read_csv('data/club_noise_complaints.csv') # Read in the \"club_noise_complaints.csv\" using a handy Pandas method\n",
    "club_noise_complaints.head()\n"
   ]
  },
  {
   "cell_type": "code",
   "execution_count": 8,
   "metadata": {
    "ExecuteTime": {
     "end_time": "2020-11-10T21:58:09.869791Z",
     "start_time": "2020-11-10T21:58:09.861552Z"
    }
   },
   "outputs": [],
   "source": [
    "# Assign the data to a variable name such as \"cc\" (for club complaints)\n",
    "\n",
    "cc = club_noise_complaints\n",
    "\n",
    "# A comma separated values (csv) file is a plain text file that contains a list of data \n",
    "# with elements separated by commmas. There are also tab separated files (tsv), json files\n",
    "# (JavaScript Object Notation), etc."
   ]
  },
  {
   "cell_type": "markdown",
   "metadata": {},
   "source": [
    "### Getting a look at the dataset using Pandas methods such as `.head()`, `.tail()`, and `.sample()`\n",
    "\n",
    "- [pandas.DataFrame.head](https://pandas.pydata.org/pandas-docs/stable/reference/api/pandas.DataFrame.head.html)\n",
    "- [pandas.DataFrame.tail](https://pandas.pydata.org/pandas-docs/stable/reference/api/pandas.DataFrame.tail.html)\n",
    "- [pandas.DataFrame.sample](https://pandas.pydata.org/pandas-docs/stable/reference/api/pandas.DataFrame.sample.html)"
   ]
  },
  {
   "cell_type": "code",
   "execution_count": 101,
   "metadata": {
    "ExecuteTime": {
     "end_time": "2020-11-10T21:58:09.882641Z",
     "start_time": "2020-11-10T21:58:09.871667Z"
    }
   },
   "outputs": [
    {
     "data": {
      "text/plain": [
       "1542     BROOKLYN, NY\n",
       "2153    MANHATTAN, NY\n",
       "194      BROOKLYN, NY\n",
       "Name: BOUROUGHS_STATE, dtype: object"
      ]
     },
     "execution_count": 101,
     "metadata": {},
     "output_type": "execute_result"
    }
   ],
   "source": [
    "# Check the first five rows of the Pandas DataFrame\n",
    "cc.head(5)\n",
    "\n",
    "# Check the last five rows of the Pandas DataFrame\n",
    "cc.tail(5)\n",
    "\n",
    "# Check out a sample row of the Pandas DataFrame\n",
    "#cc.sample(frac=0.5, replace=True, random_state=1) #A random 50% sample of the DataFrame with replacement:\n",
    "\n",
    "cc['BOUROUGHS_STATE'].sample(n=3, random_state=1)\n"
   ]
  },
  {
   "cell_type": "markdown",
   "metadata": {},
   "source": [
    "### Output a concise summary of a Pandas DataFrame using `.info()`\n",
    "\n",
    "- [pandas.DataFrame.info](https://pandas.pydata.org/pandas-docs/stable/reference/api/pandas.DataFrame.info.html)"
   ]
  },
  {
   "cell_type": "code",
   "execution_count": 11,
   "metadata": {
    "ExecuteTime": {
     "end_time": "2020-11-10T21:58:09.891477Z",
     "start_time": "2020-11-10T21:58:09.884516Z"
    }
   },
   "outputs": [
    {
     "name": "stdout",
     "output_type": "stream",
     "text": [
      "<class 'pandas.core.frame.DataFrame'>\n",
      "RangeIndex: 2447 entries, 0 to 2446\n",
      "Data columns (total 8 columns):\n",
      " #   Column           Non-Null Count  Dtype  \n",
      "---  ------           --------------  -----  \n",
      " 0   index            2447 non-null   int64  \n",
      " 1   LOC              2447 non-null   object \n",
      " 2   ZC               2447 non-null   int64  \n",
      " 3   CITY             1708 non-null   object \n",
      " 4   BOUROUGHS_STATE  2447 non-null   object \n",
      " 5   LAT              2447 non-null   float64\n",
      " 6   LONG             2447 non-null   float64\n",
      " 7   num_calls        2447 non-null   object \n",
      "dtypes: float64(2), int64(2), object(4)\n",
      "memory usage: 153.1+ KB\n"
     ]
    }
   ],
   "source": [
    "# Chain on the `info()` method to the Pandas DataFrame variable\n",
    "cc.info()\n",
    "\n"
   ]
  },
  {
   "cell_type": "markdown",
   "metadata": {},
   "source": [
    "### Checking the dimensions (number of rows and columns) in the dataset\n",
    "\n",
    "- [pandas.DataFrame.shape](https://pandas.pydata.org/pandas-docs/stable/reference/api/pandas.DataFrame.shape.html)"
   ]
  },
  {
   "cell_type": "code",
   "execution_count": 13,
   "metadata": {
    "ExecuteTime": {
     "end_time": "2020-11-10T21:58:09.897466Z",
     "start_time": "2020-11-10T21:58:09.893485Z"
    }
   },
   "outputs": [
    {
     "data": {
      "text/plain": [
       "RangeIndex(start=0, stop=2447, step=1)"
      ]
     },
     "execution_count": 13,
     "metadata": {},
     "output_type": "execute_result"
    }
   ],
   "source": [
    "# Chain on the `shape` attribute to the Pandas DataFrame variable\n",
    "# The output is a tuple containing the number of rows and columns in the DataFrame\n",
    "cc.shape\n",
    "\n",
    "# Chain on the `columns` attribute to the Pandas DataFrame variable\n",
    "# The output is the name of the columns in the Pandas DataFrame\n",
    "cc.columns\n",
    "\n",
    "\n",
    "# Chain on the `index` attribute to the Pandas DataFrame variable\n",
    "# The output is the index of the DataFrame, the data type of that index, and\n",
    "# the length of number of index value\n",
    "cc.index\n",
    "\n"
   ]
  },
  {
   "cell_type": "markdown",
   "metadata": {},
   "source": [
    "### Checking the data types in dataset\n",
    "\n",
    "- [Pandas DataTypes](https://pbpython.com/pandas_dtypes.html)\n",
    "![alt text](assets/data_types.png)"
   ]
  },
  {
   "cell_type": "code",
   "execution_count": 15,
   "metadata": {
    "ExecuteTime": {
     "end_time": "2020-11-10T21:58:09.939219Z",
     "start_time": "2020-11-10T21:58:09.899055Z"
    },
    "scrolled": true
   },
   "outputs": [
    {
     "data": {
      "text/plain": [
       "index                int64\n",
       "LOC                 object\n",
       "ZC                   int64\n",
       "CITY                object\n",
       "BOUROUGHS_STATE     object\n",
       "LAT                float64\n",
       "LONG               float64\n",
       "num_calls           object\n",
       "dtype: object"
      ]
     },
     "execution_count": 15,
     "metadata": {},
     "output_type": "execute_result"
    }
   ],
   "source": [
    "# Output the data types in the DataFrame using the `dtypes` attribute\n",
    "# Common datatypes are int64, float64, object, and many more\n",
    "cc.dtypes"
   ]
  },
  {
   "cell_type": "markdown",
   "metadata": {},
   "source": [
    "## Check the number of unique values inside either each column/series of a Pandas Dataframe or a single Pandas column/series\n",
    "\n",
    "- [pandas.DataFrame.nunique](https://pandas.pydata.org/pandas-docs/stable/reference/api/pandas.DataFrame.nunique.html)\n",
    "- [pandas.Series.nunique](https://pandas.pydata.org/pandas-docs/stable/reference/api/pandas.Series.nunique.html)\n",
    "      - Count the number of distinct observations over a requested axis.\n"
   ]
  },
  {
   "cell_type": "code",
   "execution_count": 17,
   "metadata": {
    "ExecuteTime": {
     "end_time": "2020-11-10T21:58:10.112420Z",
     "start_time": "2020-11-10T21:58:09.941824Z"
    }
   },
   "outputs": [
    {
     "data": {
      "text/plain": [
       "index              2447\n",
       "LAT                2390\n",
       "LONG               2389\n",
       "num_calls           190\n",
       "ZC                  159\n",
       "CITY                 40\n",
       "BOUROUGHS_STATE       6\n",
       "LOC                   2\n",
       "dtype: int64"
      ]
     },
     "execution_count": 17,
     "metadata": {},
     "output_type": "execute_result"
    }
   ],
   "source": [
    "# The `.nunique()` method used on the DataFrame outputs a count of the number of the\n",
    "# unique values in each column or Pandas Series in the DataFrame\n",
    "cc.nunique().sort_values(ascending=False)"
   ]
  },
  {
   "cell_type": "markdown",
   "metadata": {},
   "source": [
    "- [pandas.DataFrame.drop](https://pandas.pydata.org/pandas-docs/stable/reference/api/pandas.DataFrame.drop.html)\n",
    "      - Drop specified labels from rows or columns."
   ]
  },
  {
   "cell_type": "code",
   "execution_count": 19,
   "metadata": {
    "ExecuteTime": {
     "end_time": "2020-11-10T21:58:10.126952Z",
     "start_time": "2020-11-10T21:58:10.123257Z"
    }
   },
   "outputs": [],
   "source": [
    "# From the documentation...\n",
    "# axis{0 or ‘index’, 1 or ‘columns’}, default 0   <---- this is key\n",
    "# Whether to drop labels from the index (0 or ‘index’) or columns (1 or ‘columns’).\n",
    "\n",
    "#cc.drop(columns=['index'], axis=1)  # This will drop the specified column\n",
    "\n",
    "# So if you want to drop a column, such as the seemingly unneeded \"index\" column,\n",
    "cc=cc.drop(columns='index')\n",
    "\n",
    "# we'll override the default parameter of axis=0 or dropping rows by adding\n",
    "# axis=1 inside the parantheses\n"
   ]
  },
  {
   "cell_type": "code",
   "execution_count": 118,
   "metadata": {
    "ExecuteTime": {
     "end_time": "2020-11-10T21:58:10.133097Z",
     "start_time": "2020-11-10T21:58:10.128669Z"
    }
   },
   "outputs": [],
   "source": [
    "# Check the columns again using the appropriate columns"
   ]
  },
  {
   "cell_type": "markdown",
   "metadata": {},
   "source": [
    "### Checking for missing values \n",
    "\n",
    "- [pandas.DataFrame.isnull](https://pandas.pydata.org/pandas-docs/stable/reference/api/pandas.DataFrame.isnull.html)\n",
    "      - Detects missing values"
   ]
  },
  {
   "cell_type": "code",
   "execution_count": 21,
   "metadata": {
    "ExecuteTime": {
     "end_time": "2020-11-10T21:58:10.141158Z",
     "start_time": "2020-11-10T21:58:10.134828Z"
    }
   },
   "outputs": [
    {
     "data": {
      "text/plain": [
       "LOC                  0\n",
       "ZC                   0\n",
       "CITY               739\n",
       "BOUROUGHS_STATE      0\n",
       "LAT                  0\n",
       "LONG                 0\n",
       "num_calls            0\n",
       "dtype: int64"
      ]
     },
     "execution_count": 21,
     "metadata": {},
     "output_type": "execute_result"
    }
   ],
   "source": [
    "# Chaining on the \"isnull\" method returns a series of Booleans. \n",
    "# True if the value is missing (NaN), False if the value is not missing)\n",
    "# NaN = Not a Number\n",
    "cc.isnull()\n",
    "\n",
    "\n",
    "# Chaining on the .sum() method totals up those 1's and 0's\n",
    "# True -> 1, False -> 0\n",
    "cc.isnull().sum()\n"
   ]
  },
  {
   "cell_type": "code",
   "execution_count": 23,
   "metadata": {
    "ExecuteTime": {
     "end_time": "2020-11-10T21:58:10.150507Z",
     "start_time": "2020-11-10T21:58:10.142615Z"
    }
   },
   "outputs": [
    {
     "data": {
      "text/plain": [
       "CITY    739\n",
       "dtype: int64"
      ]
     },
     "execution_count": 23,
     "metadata": {},
     "output_type": "execute_result"
    }
   ],
   "source": [
    "# Now we can filter that \"cc.isnull().sum()\" \n",
    "cc.isnull().sum()[cc.isnull().sum()!=0].sort_values(ascending=False)"
   ]
  },
  {
   "cell_type": "markdown",
   "metadata": {},
   "source": [
    "### Checking for duplicate rows\n",
    "- [pandas.DataFrame.duplicated](https://pandas.pydata.org/pandas-docs/stable/reference/api/pandas.DataFrame.duplicated.html)\n",
    "      - Returns a Series of booleans denoting duplicate rows.\n",
    "      \n",
    "      - Key Parameter:\n",
    "           - keep{‘first’, ‘last’, False}, default ‘first’: Determines which duplicates \n",
    "             (if any) to mark.\n",
    "           - first : Mark duplicates as True except for the first occurrence.\n",
    "           - last : Mark duplicates as True except for the last occurrence.\n",
    "           - False : Mark all duplicates as True."
   ]
  },
  {
   "cell_type": "code",
   "execution_count": 126,
   "metadata": {},
   "outputs": [
    {
     "data": {
      "text/plain": [
       "7"
      ]
     },
     "execution_count": 126,
     "metadata": {},
     "output_type": "execute_result"
    }
   ],
   "source": [
    "cc.duplicated().sum()"
   ]
  },
  {
   "cell_type": "code",
   "execution_count": 25,
   "metadata": {
    "ExecuteTime": {
     "end_time": "2020-11-10T21:58:10.165169Z",
     "start_time": "2020-11-10T21:58:10.152452Z"
    }
   },
   "outputs": [
    {
     "data": {
      "text/plain": [
       "<bound method Series.sum of 0       False\n",
       "1       False\n",
       "2       False\n",
       "3       False\n",
       "4       False\n",
       "        ...  \n",
       "2442    False\n",
       "2443    False\n",
       "2444    False\n",
       "2445    False\n",
       "2446    False\n",
       "Length: 2447, dtype: bool>"
      ]
     },
     "execution_count": 25,
     "metadata": {},
     "output_type": "execute_result"
    }
   ],
   "source": [
    "cc.duplicated(keep='first').sum"
   ]
  },
  {
   "cell_type": "markdown",
   "metadata": {},
   "source": [
    "### Dropping duplicate rows\n",
    "- [pandas.DataFrame.drop_duplicates](https://pandas.pydata.org/pandas-docs/stable/reference/api/pandas.DataFrame.drop_duplicates.html)\n",
    "      - Returns a DataFrame with duplicate rows removed."
   ]
  },
  {
   "cell_type": "code",
   "execution_count": 27,
   "metadata": {},
   "outputs": [
    {
     "data": {
      "text/plain": [
       "0       False\n",
       "1       False\n",
       "2       False\n",
       "3       False\n",
       "4       False\n",
       "        ...  \n",
       "2442    False\n",
       "2443    False\n",
       "2444    False\n",
       "2445    False\n",
       "2446    False\n",
       "Length: 2447, dtype: bool"
      ]
     },
     "execution_count": 27,
     "metadata": {},
     "output_type": "execute_result"
    }
   ],
   "source": [
    "cc.duplicated()"
   ]
  },
  {
   "cell_type": "code",
   "execution_count": 29,
   "metadata": {
    "ExecuteTime": {
     "end_time": "2020-11-10T21:58:10.199876Z",
     "start_time": "2020-11-10T21:58:10.191293Z"
    }
   },
   "outputs": [
    {
     "data": {
      "text/html": [
       "<div>\n",
       "<style scoped>\n",
       "    .dataframe tbody tr th:only-of-type {\n",
       "        vertical-align: middle;\n",
       "    }\n",
       "\n",
       "    .dataframe tbody tr th {\n",
       "        vertical-align: top;\n",
       "    }\n",
       "\n",
       "    .dataframe thead th {\n",
       "        text-align: right;\n",
       "    }\n",
       "</style>\n",
       "<table border=\"1\" class=\"dataframe\">\n",
       "  <thead>\n",
       "    <tr style=\"text-align: right;\">\n",
       "      <th></th>\n",
       "      <th>LOC</th>\n",
       "      <th>ZC</th>\n",
       "      <th>CITY</th>\n",
       "      <th>BOUROUGHS_STATE</th>\n",
       "      <th>LAT</th>\n",
       "      <th>LONG</th>\n",
       "      <th>num_calls</th>\n",
       "    </tr>\n",
       "  </thead>\n",
       "  <tbody>\n",
       "    <tr>\n",
       "      <th>0</th>\n",
       "      <td>Club/Bar/Restaurant</td>\n",
       "      <td>10308</td>\n",
       "      <td>STATEN ISLAND</td>\n",
       "      <td>STATEN ISLAND, NY</td>\n",
       "      <td>40.544096</td>\n",
       "      <td>-74.141155</td>\n",
       "      <td>0</td>\n",
       "    </tr>\n",
       "    <tr>\n",
       "      <th>1</th>\n",
       "      <td>Club/Bar/Restaurant</td>\n",
       "      <td>10012</td>\n",
       "      <td>NEW YORK</td>\n",
       "      <td>MANHATTAN, NY</td>\n",
       "      <td>40.729793</td>\n",
       "      <td>-73.998842</td>\n",
       "      <td>18</td>\n",
       "    </tr>\n",
       "    <tr>\n",
       "      <th>2</th>\n",
       "      <td>Club/Bar/Restaurant</td>\n",
       "      <td>10308</td>\n",
       "      <td>STATEN ISLAND</td>\n",
       "      <td>STATEN ISLAND, NY</td>\n",
       "      <td>40.544209</td>\n",
       "      <td>-74.141040</td>\n",
       "      <td>21</td>\n",
       "    </tr>\n",
       "    <tr>\n",
       "      <th>3</th>\n",
       "      <td>Club/Bar/Restaurant</td>\n",
       "      <td>10034</td>\n",
       "      <td>New York</td>\n",
       "      <td>MANHATTAN, NY</td>\n",
       "      <td>40.866376</td>\n",
       "      <td>-73.928258</td>\n",
       "      <td>160</td>\n",
       "    </tr>\n",
       "    <tr>\n",
       "      <th>4</th>\n",
       "      <td>Club/Bar/Restaurant</td>\n",
       "      <td>11220</td>\n",
       "      <td>NaN</td>\n",
       "      <td>BROOKLYN, NY</td>\n",
       "      <td>40.635207</td>\n",
       "      <td>-74.020285</td>\n",
       "      <td>17</td>\n",
       "    </tr>\n",
       "    <tr>\n",
       "      <th>...</th>\n",
       "      <td>...</td>\n",
       "      <td>...</td>\n",
       "      <td>...</td>\n",
       "      <td>...</td>\n",
       "      <td>...</td>\n",
       "      <td>...</td>\n",
       "      <td>...</td>\n",
       "    </tr>\n",
       "    <tr>\n",
       "      <th>2442</th>\n",
       "      <td>Club/Bar/Restaurant</td>\n",
       "      <td>11211</td>\n",
       "      <td>NaN</td>\n",
       "      <td>BROOKLYN, NY</td>\n",
       "      <td>40.711765</td>\n",
       "      <td>-73.942687</td>\n",
       "      <td>16</td>\n",
       "    </tr>\n",
       "    <tr>\n",
       "      <th>2443</th>\n",
       "      <td>Club/Bar/Restaurant</td>\n",
       "      <td>11104</td>\n",
       "      <td>SUNNYSIDE</td>\n",
       "      <td>QUEENS, NY</td>\n",
       "      <td>40.740725</td>\n",
       "      <td>-73.923911</td>\n",
       "      <td>17</td>\n",
       "    </tr>\n",
       "    <tr>\n",
       "      <th>2444</th>\n",
       "      <td>Club/Bar/Restaurant</td>\n",
       "      <td>10012</td>\n",
       "      <td>NEW YORK</td>\n",
       "      <td>MANHATTAN, NY</td>\n",
       "      <td>40.729859</td>\n",
       "      <td>-74.000592</td>\n",
       "      <td>17</td>\n",
       "    </tr>\n",
       "    <tr>\n",
       "      <th>2445</th>\n",
       "      <td>Club/Bar/Restaurant</td>\n",
       "      <td>10304</td>\n",
       "      <td>STATEN ISLAND</td>\n",
       "      <td>STATEN ISLAND, NY</td>\n",
       "      <td>40.628744</td>\n",
       "      <td>-74.079935</td>\n",
       "      <td>11</td>\n",
       "    </tr>\n",
       "    <tr>\n",
       "      <th>2446</th>\n",
       "      <td>Club/Bar/Restaurant</td>\n",
       "      <td>11423</td>\n",
       "      <td>HOLLIS</td>\n",
       "      <td>QUEENS, NY</td>\n",
       "      <td>40.711692</td>\n",
       "      <td>-73.769709</td>\n",
       "      <td>11</td>\n",
       "    </tr>\n",
       "  </tbody>\n",
       "</table>\n",
       "<p>2440 rows × 7 columns</p>\n",
       "</div>"
      ],
      "text/plain": [
       "                      LOC     ZC           CITY    BOUROUGHS_STATE        LAT  \\\n",
       "0     Club/Bar/Restaurant  10308  STATEN ISLAND  STATEN ISLAND, NY  40.544096   \n",
       "1     Club/Bar/Restaurant  10012       NEW YORK      MANHATTAN, NY  40.729793   \n",
       "2     Club/Bar/Restaurant  10308  STATEN ISLAND  STATEN ISLAND, NY  40.544209   \n",
       "3     Club/Bar/Restaurant  10034       New York      MANHATTAN, NY  40.866376   \n",
       "4     Club/Bar/Restaurant  11220            NaN       BROOKLYN, NY  40.635207   \n",
       "...                   ...    ...            ...                ...        ...   \n",
       "2442  Club/Bar/Restaurant  11211            NaN       BROOKLYN, NY  40.711765   \n",
       "2443  Club/Bar/Restaurant  11104      SUNNYSIDE         QUEENS, NY  40.740725   \n",
       "2444  Club/Bar/Restaurant  10012       NEW YORK      MANHATTAN, NY  40.729859   \n",
       "2445  Club/Bar/Restaurant  10304  STATEN ISLAND  STATEN ISLAND, NY  40.628744   \n",
       "2446  Club/Bar/Restaurant  11423         HOLLIS         QUEENS, NY  40.711692   \n",
       "\n",
       "           LONG num_calls  \n",
       "0    -74.141155         0  \n",
       "1    -73.998842        18  \n",
       "2    -74.141040        21  \n",
       "3    -73.928258       160  \n",
       "4    -74.020285        17  \n",
       "...         ...       ...  \n",
       "2442 -73.942687        16  \n",
       "2443 -73.923911        17  \n",
       "2444 -74.000592        17  \n",
       "2445 -74.079935        11  \n",
       "2446 -73.769709        11  \n",
       "\n",
       "[2440 rows x 7 columns]"
      ]
     },
     "execution_count": 29,
     "metadata": {},
     "output_type": "execute_result"
    }
   ],
   "source": [
    "# Use the \"drop_duplicates\" method and then either assign it back to the DataFrame\n",
    "# variable name OR explore the inplace parameter and override the default\n",
    "\n",
    "cc_dropdup=cc.drop_duplicates()\n",
    "cc_dropdup\n"
   ]
  },
  {
   "cell_type": "markdown",
   "metadata": {},
   "source": [
    "**Always good to check your work...**\n",
    "\n",
    "- [pandas.DataFrame.shape](https://pandas.pydata.org/pandas-docs/stable/reference/api/pandas.DataFrame.shape.html)\n",
    "      - Returns a tuple representing the dimensionality (rows, columns) of the DataFrame."
   ]
  },
  {
   "cell_type": "code",
   "execution_count": 31,
   "metadata": {
    "ExecuteTime": {
     "end_time": "2020-11-10T21:58:10.205894Z",
     "start_time": "2020-11-10T21:58:10.201740Z"
    }
   },
   "outputs": [
    {
     "data": {
      "text/plain": [
       "(2447, 7)"
      ]
     },
     "execution_count": 31,
     "metadata": {},
     "output_type": "execute_result"
    }
   ],
   "source": [
    "# We can use the `shape` attribute again to check the number of rows\n",
    "# or columns in the DataFrame as we explore the data/make changes to it.\n",
    "cc.shape"
   ]
  },
  {
   "cell_type": "code",
   "execution_count": 33,
   "metadata": {
    "ExecuteTime": {
     "end_time": "2020-11-10T21:58:10.217944Z",
     "start_time": "2020-11-10T21:58:10.207266Z"
    }
   },
   "outputs": [
    {
     "data": {
      "text/plain": [
       "22"
      ]
     },
     "execution_count": 33,
     "metadata": {},
     "output_type": "execute_result"
    }
   ],
   "source": [
    "# \"\\\" allows us to escape the pattern - the \"?\" is what we're searching for in the data\n",
    "\n",
    "# Use the handy \"len\" (length) function to get a count of the rows that contain a \"?\"\n",
    "\n",
    "# Find rows where num_calls contains '?'\n",
    "\n",
    "#rows_question_mark = cc[cc['num_calls'].str.contains(r'\\?', na=False)] == '?' #r = raw string \n",
    "#rows_question_mark\n",
    "\n",
    "#len(rows_question_mark)\n",
    "\n",
    "len(cc[cc['num_calls'].str.contains('\\\\?')])"
   ]
  },
  {
   "cell_type": "markdown",
   "metadata": {},
   "source": [
    "### Use a handy method from the NumPy library commonly referred to as `np.where()` to replace the `\"?\"` and `\"1?\"` values with a NaN (Not a Number)\n",
    "\n",
    "- [numpy.where](https://numpy.org/doc/stable/reference/generated/numpy.where.html)\n",
    "      - Return elements chosen from x or y depending on a condition.\n",
    "      - Common syntax involves three values:\n",
    "          1. condition\n",
    "          2. what to return if condition is True\n",
    "          3. what to return if condition is False"
   ]
  },
  {
   "cell_type": "code",
   "execution_count": 143,
   "metadata": {
    "ExecuteTime": {
     "end_time": "2020-11-10T21:58:10.226997Z",
     "start_time": "2020-11-10T21:58:10.222245Z"
    }
   },
   "outputs": [
    {
     "data": {
      "text/html": [
       "<div>\n",
       "<style scoped>\n",
       "    .dataframe tbody tr th:only-of-type {\n",
       "        vertical-align: middle;\n",
       "    }\n",
       "\n",
       "    .dataframe tbody tr th {\n",
       "        vertical-align: top;\n",
       "    }\n",
       "\n",
       "    .dataframe thead th {\n",
       "        text-align: right;\n",
       "    }\n",
       "</style>\n",
       "<table border=\"1\" class=\"dataframe\">\n",
       "  <thead>\n",
       "    <tr style=\"text-align: right;\">\n",
       "      <th></th>\n",
       "      <th>LOC</th>\n",
       "      <th>ZC</th>\n",
       "      <th>CITY</th>\n",
       "      <th>BOUROUGHS_STATE</th>\n",
       "      <th>LAT</th>\n",
       "      <th>LONG</th>\n",
       "      <th>num_calls</th>\n",
       "    </tr>\n",
       "  </thead>\n",
       "  <tbody>\n",
       "    <tr>\n",
       "      <th>0</th>\n",
       "      <td>Club/Bar/Restaurant</td>\n",
       "      <td>10308</td>\n",
       "      <td>STATEN ISLAND</td>\n",
       "      <td>STATEN ISLAND, NY</td>\n",
       "      <td>40.544096</td>\n",
       "      <td>-74.141155</td>\n",
       "      <td>0</td>\n",
       "    </tr>\n",
       "    <tr>\n",
       "      <th>1</th>\n",
       "      <td>Club/Bar/Restaurant</td>\n",
       "      <td>10012</td>\n",
       "      <td>NEW YORK</td>\n",
       "      <td>MANHATTAN, NY</td>\n",
       "      <td>40.729793</td>\n",
       "      <td>-73.998842</td>\n",
       "      <td>18</td>\n",
       "    </tr>\n",
       "    <tr>\n",
       "      <th>2</th>\n",
       "      <td>Club/Bar/Restaurant</td>\n",
       "      <td>10308</td>\n",
       "      <td>STATEN ISLAND</td>\n",
       "      <td>STATEN ISLAND, NY</td>\n",
       "      <td>40.544209</td>\n",
       "      <td>-74.141040</td>\n",
       "      <td>21</td>\n",
       "    </tr>\n",
       "    <tr>\n",
       "      <th>3</th>\n",
       "      <td>Club/Bar/Restaurant</td>\n",
       "      <td>10034</td>\n",
       "      <td>New York</td>\n",
       "      <td>MANHATTAN, NY</td>\n",
       "      <td>40.866376</td>\n",
       "      <td>-73.928258</td>\n",
       "      <td>160</td>\n",
       "    </tr>\n",
       "    <tr>\n",
       "      <th>4</th>\n",
       "      <td>Club/Bar/Restaurant</td>\n",
       "      <td>11220</td>\n",
       "      <td>NaN</td>\n",
       "      <td>BROOKLYN, NY</td>\n",
       "      <td>40.635207</td>\n",
       "      <td>-74.020285</td>\n",
       "      <td>17</td>\n",
       "    </tr>\n",
       "  </tbody>\n",
       "</table>\n",
       "</div>"
      ],
      "text/plain": [
       "                   LOC     ZC           CITY    BOUROUGHS_STATE        LAT  \\\n",
       "0  Club/Bar/Restaurant  10308  STATEN ISLAND  STATEN ISLAND, NY  40.544096   \n",
       "1  Club/Bar/Restaurant  10012       NEW YORK      MANHATTAN, NY  40.729793   \n",
       "2  Club/Bar/Restaurant  10308  STATEN ISLAND  STATEN ISLAND, NY  40.544209   \n",
       "3  Club/Bar/Restaurant  10034       New York      MANHATTAN, NY  40.866376   \n",
       "4  Club/Bar/Restaurant  11220            NaN       BROOKLYN, NY  40.635207   \n",
       "\n",
       "        LONG num_calls  \n",
       "0 -74.141155         0  \n",
       "1 -73.998842        18  \n",
       "2 -74.141040        21  \n",
       "3 -73.928258       160  \n",
       "4 -74.020285        17  "
      ]
     },
     "execution_count": 143,
     "metadata": {},
     "output_type": "execute_result"
    }
   ],
   "source": [
    "cc['num_calls'] = np.where(cc['num_calls'].str.contains('\\\\?'), np.nan, cc['num_calls'])\n",
    "cc.head()"
   ]
  },
  {
   "cell_type": "code",
   "execution_count": 35,
   "metadata": {
    "ExecuteTime": {
     "end_time": "2020-11-10T21:58:10.237758Z",
     "start_time": "2020-11-10T21:58:10.229737Z"
    }
   },
   "outputs": [
    {
     "data": {
      "text/plain": [
       "0"
      ]
     },
     "execution_count": 35,
     "metadata": {},
     "output_type": "execute_result"
    }
   ],
   "source": [
    "# Check the missing values in the columns of the Pandas DataFrame\n",
    "\n",
    "cc['num_calls'].isnull().sum()"
   ]
  },
  {
   "cell_type": "markdown",
   "metadata": {},
   "source": [
    "### Split the values in `BOUROUGHS_STATE` columns into two separate columns then concat (or add) those two columns to the original Pandas DataFrame\n",
    "\n",
    "- [pandas.Series.str.split](https://pandas.pydata.org/pandas-docs/stable/reference/api/pandas.Series.str.split.html)\n",
    "      - Key Parameters:\n",
    "        - pat: String or regular expression to split on. If not specified, \n",
    "               the method will split on whitespace.\n",
    "        - expand (default False): Expand the split strings into separate columns.\n",
    "             - If True, return DataFrame/MultiIndex expanding dimensionality.\n",
    "             - If False, return Series/Index, containing lists of strings.\n",
    "                 \n",
    "- [pandas.concat](https://pandas.pydata.org/pandas-docs/stable/reference/api/pandas.concat.html)\n",
    "      - Key Parameter: axis {0 = \"index\", 1 = \"columns\"}, default 0\n",
    "         - References the axis to concatenate along."
   ]
  },
  {
   "cell_type": "code",
   "execution_count": 37,
   "metadata": {},
   "outputs": [
    {
     "data": {
      "text/plain": [
       "Index(['LOC', 'ZC', 'CITY', 'BOUROUGHS_STATE', 'LAT', 'LONG', 'num_calls'], dtype='object')"
      ]
     },
     "execution_count": 37,
     "metadata": {},
     "output_type": "execute_result"
    }
   ],
   "source": [
    "cc.columns"
   ]
  },
  {
   "cell_type": "code",
   "execution_count": 41,
   "metadata": {
    "ExecuteTime": {
     "end_time": "2020-11-10T21:58:10.248876Z",
     "start_time": "2020-11-10T21:58:10.239356Z"
    }
   },
   "outputs": [
    {
     "data": {
      "text/html": [
       "<div>\n",
       "<style scoped>\n",
       "    .dataframe tbody tr th:only-of-type {\n",
       "        vertical-align: middle;\n",
       "    }\n",
       "\n",
       "    .dataframe tbody tr th {\n",
       "        vertical-align: top;\n",
       "    }\n",
       "\n",
       "    .dataframe thead th {\n",
       "        text-align: right;\n",
       "    }\n",
       "</style>\n",
       "<table border=\"1\" class=\"dataframe\">\n",
       "  <thead>\n",
       "    <tr style=\"text-align: right;\">\n",
       "      <th></th>\n",
       "      <th>Borough</th>\n",
       "      <th>State</th>\n",
       "      <th>LOC</th>\n",
       "      <th>ZC</th>\n",
       "      <th>CITY</th>\n",
       "      <th>BOUROUGHS_STATE</th>\n",
       "      <th>LAT</th>\n",
       "      <th>LONG</th>\n",
       "      <th>num_calls</th>\n",
       "    </tr>\n",
       "  </thead>\n",
       "  <tbody>\n",
       "    <tr>\n",
       "      <th>0</th>\n",
       "      <td>STATEN ISLAND</td>\n",
       "      <td>NY</td>\n",
       "      <td>Club/Bar/Restaurant</td>\n",
       "      <td>10308</td>\n",
       "      <td>STATEN ISLAND</td>\n",
       "      <td>STATEN ISLAND, NY</td>\n",
       "      <td>40.544096</td>\n",
       "      <td>-74.141155</td>\n",
       "      <td>0</td>\n",
       "    </tr>\n",
       "    <tr>\n",
       "      <th>1</th>\n",
       "      <td>MANHATTAN</td>\n",
       "      <td>NY</td>\n",
       "      <td>Club/Bar/Restaurant</td>\n",
       "      <td>10012</td>\n",
       "      <td>NEW YORK</td>\n",
       "      <td>MANHATTAN, NY</td>\n",
       "      <td>40.729793</td>\n",
       "      <td>-73.998842</td>\n",
       "      <td>18</td>\n",
       "    </tr>\n",
       "    <tr>\n",
       "      <th>2</th>\n",
       "      <td>STATEN ISLAND</td>\n",
       "      <td>NY</td>\n",
       "      <td>Club/Bar/Restaurant</td>\n",
       "      <td>10308</td>\n",
       "      <td>STATEN ISLAND</td>\n",
       "      <td>STATEN ISLAND, NY</td>\n",
       "      <td>40.544209</td>\n",
       "      <td>-74.141040</td>\n",
       "      <td>21</td>\n",
       "    </tr>\n",
       "    <tr>\n",
       "      <th>3</th>\n",
       "      <td>MANHATTAN</td>\n",
       "      <td>NY</td>\n",
       "      <td>Club/Bar/Restaurant</td>\n",
       "      <td>10034</td>\n",
       "      <td>New York</td>\n",
       "      <td>MANHATTAN, NY</td>\n",
       "      <td>40.866376</td>\n",
       "      <td>-73.928258</td>\n",
       "      <td>160</td>\n",
       "    </tr>\n",
       "    <tr>\n",
       "      <th>4</th>\n",
       "      <td>BROOKLYN</td>\n",
       "      <td>NY</td>\n",
       "      <td>Club/Bar/Restaurant</td>\n",
       "      <td>11220</td>\n",
       "      <td>NaN</td>\n",
       "      <td>BROOKLYN, NY</td>\n",
       "      <td>40.635207</td>\n",
       "      <td>-74.020285</td>\n",
       "      <td>17</td>\n",
       "    </tr>\n",
       "    <tr>\n",
       "      <th>...</th>\n",
       "      <td>...</td>\n",
       "      <td>...</td>\n",
       "      <td>...</td>\n",
       "      <td>...</td>\n",
       "      <td>...</td>\n",
       "      <td>...</td>\n",
       "      <td>...</td>\n",
       "      <td>...</td>\n",
       "      <td>...</td>\n",
       "    </tr>\n",
       "    <tr>\n",
       "      <th>2442</th>\n",
       "      <td>BROOKLYN</td>\n",
       "      <td>NY</td>\n",
       "      <td>Club/Bar/Restaurant</td>\n",
       "      <td>11211</td>\n",
       "      <td>NaN</td>\n",
       "      <td>BROOKLYN, NY</td>\n",
       "      <td>40.711765</td>\n",
       "      <td>-73.942687</td>\n",
       "      <td>16</td>\n",
       "    </tr>\n",
       "    <tr>\n",
       "      <th>2443</th>\n",
       "      <td>QUEENS</td>\n",
       "      <td>NY</td>\n",
       "      <td>Club/Bar/Restaurant</td>\n",
       "      <td>11104</td>\n",
       "      <td>SUNNYSIDE</td>\n",
       "      <td>QUEENS, NY</td>\n",
       "      <td>40.740725</td>\n",
       "      <td>-73.923911</td>\n",
       "      <td>17</td>\n",
       "    </tr>\n",
       "    <tr>\n",
       "      <th>2444</th>\n",
       "      <td>MANHATTAN</td>\n",
       "      <td>NY</td>\n",
       "      <td>Club/Bar/Restaurant</td>\n",
       "      <td>10012</td>\n",
       "      <td>NEW YORK</td>\n",
       "      <td>MANHATTAN, NY</td>\n",
       "      <td>40.729859</td>\n",
       "      <td>-74.000592</td>\n",
       "      <td>17</td>\n",
       "    </tr>\n",
       "    <tr>\n",
       "      <th>2445</th>\n",
       "      <td>STATEN ISLAND</td>\n",
       "      <td>NY</td>\n",
       "      <td>Club/Bar/Restaurant</td>\n",
       "      <td>10304</td>\n",
       "      <td>STATEN ISLAND</td>\n",
       "      <td>STATEN ISLAND, NY</td>\n",
       "      <td>40.628744</td>\n",
       "      <td>-74.079935</td>\n",
       "      <td>11</td>\n",
       "    </tr>\n",
       "    <tr>\n",
       "      <th>2446</th>\n",
       "      <td>QUEENS</td>\n",
       "      <td>NY</td>\n",
       "      <td>Club/Bar/Restaurant</td>\n",
       "      <td>11423</td>\n",
       "      <td>HOLLIS</td>\n",
       "      <td>QUEENS, NY</td>\n",
       "      <td>40.711692</td>\n",
       "      <td>-73.769709</td>\n",
       "      <td>11</td>\n",
       "    </tr>\n",
       "  </tbody>\n",
       "</table>\n",
       "<p>2447 rows × 9 columns</p>\n",
       "</div>"
      ],
      "text/plain": [
       "            Borough State                  LOC     ZC           CITY  \\\n",
       "0     STATEN ISLAND    NY  Club/Bar/Restaurant  10308  STATEN ISLAND   \n",
       "1         MANHATTAN    NY  Club/Bar/Restaurant  10012       NEW YORK   \n",
       "2     STATEN ISLAND    NY  Club/Bar/Restaurant  10308  STATEN ISLAND   \n",
       "3         MANHATTAN    NY  Club/Bar/Restaurant  10034       New York   \n",
       "4          BROOKLYN    NY  Club/Bar/Restaurant  11220            NaN   \n",
       "...             ...   ...                  ...    ...            ...   \n",
       "2442       BROOKLYN    NY  Club/Bar/Restaurant  11211            NaN   \n",
       "2443         QUEENS    NY  Club/Bar/Restaurant  11104      SUNNYSIDE   \n",
       "2444      MANHATTAN    NY  Club/Bar/Restaurant  10012       NEW YORK   \n",
       "2445  STATEN ISLAND    NY  Club/Bar/Restaurant  10304  STATEN ISLAND   \n",
       "2446         QUEENS    NY  Club/Bar/Restaurant  11423         HOLLIS   \n",
       "\n",
       "        BOUROUGHS_STATE        LAT       LONG num_calls  \n",
       "0     STATEN ISLAND, NY  40.544096 -74.141155         0  \n",
       "1         MANHATTAN, NY  40.729793 -73.998842        18  \n",
       "2     STATEN ISLAND, NY  40.544209 -74.141040        21  \n",
       "3         MANHATTAN, NY  40.866376 -73.928258       160  \n",
       "4          BROOKLYN, NY  40.635207 -74.020285        17  \n",
       "...                 ...        ...        ...       ...  \n",
       "2442       BROOKLYN, NY  40.711765 -73.942687        16  \n",
       "2443         QUEENS, NY  40.740725 -73.923911        17  \n",
       "2444      MANHATTAN, NY  40.729859 -74.000592        17  \n",
       "2445  STATEN ISLAND, NY  40.628744 -74.079935        11  \n",
       "2446         QUEENS, NY  40.711692 -73.769709        11  \n",
       "\n",
       "[2447 rows x 9 columns]"
      ]
     },
     "execution_count": 41,
     "metadata": {},
     "output_type": "execute_result"
    }
   ],
   "source": [
    "# Split the 'BOUROUGHS_STATE' column into two separate columns \n",
    "split_col=cc['BOUROUGHS_STATE'].str.split(', ', expand=True)\n",
    "\n",
    "# Rename the new columns\n",
    "split_col.columns = ['Borough', 'State']\n",
    "\n",
    "# and assign back to the new variable below\n",
    "# Conceptually similar to using \"Text to Columns\" in Excel\n",
    "split_cc = pd.concat([split_col, cc], axis=1)\n",
    "split_cc"
   ]
  },
  {
   "cell_type": "markdown",
   "metadata": {},
   "source": [
    "### Drop a column (or columns) from a Pandas DataFrame\n",
    "\n",
    "- [pandas.DataFrame.drop](https://pandas.pydata.org/pandas-docs/stable/reference/api/pandas.DataFrame.drop.html)\n",
    "      - Key Parameter: axis{0 --> \"index\", 1 --> \"columns\"}, default 0\n",
    "         - Whether to drop labels from the index (0 or ‘index’) or \n",
    "           columns (1 or ‘columns’)."
   ]
  },
  {
   "cell_type": "code",
   "execution_count": 43,
   "metadata": {
    "ExecuteTime": {
     "end_time": "2020-11-10T21:58:10.258949Z",
     "start_time": "2020-11-10T21:58:10.251136Z"
    }
   },
   "outputs": [
    {
     "data": {
      "text/html": [
       "<div>\n",
       "<style scoped>\n",
       "    .dataframe tbody tr th:only-of-type {\n",
       "        vertical-align: middle;\n",
       "    }\n",
       "\n",
       "    .dataframe tbody tr th {\n",
       "        vertical-align: top;\n",
       "    }\n",
       "\n",
       "    .dataframe thead th {\n",
       "        text-align: right;\n",
       "    }\n",
       "</style>\n",
       "<table border=\"1\" class=\"dataframe\">\n",
       "  <thead>\n",
       "    <tr style=\"text-align: right;\">\n",
       "      <th></th>\n",
       "      <th>Borough</th>\n",
       "      <th>State</th>\n",
       "      <th>LOC</th>\n",
       "      <th>ZC</th>\n",
       "      <th>CITY</th>\n",
       "      <th>LAT</th>\n",
       "      <th>LONG</th>\n",
       "      <th>num_calls</th>\n",
       "    </tr>\n",
       "  </thead>\n",
       "  <tbody>\n",
       "    <tr>\n",
       "      <th>0</th>\n",
       "      <td>STATEN ISLAND</td>\n",
       "      <td>NY</td>\n",
       "      <td>Club/Bar/Restaurant</td>\n",
       "      <td>10308</td>\n",
       "      <td>STATEN ISLAND</td>\n",
       "      <td>40.544096</td>\n",
       "      <td>-74.141155</td>\n",
       "      <td>0</td>\n",
       "    </tr>\n",
       "    <tr>\n",
       "      <th>1</th>\n",
       "      <td>MANHATTAN</td>\n",
       "      <td>NY</td>\n",
       "      <td>Club/Bar/Restaurant</td>\n",
       "      <td>10012</td>\n",
       "      <td>NEW YORK</td>\n",
       "      <td>40.729793</td>\n",
       "      <td>-73.998842</td>\n",
       "      <td>18</td>\n",
       "    </tr>\n",
       "    <tr>\n",
       "      <th>2</th>\n",
       "      <td>STATEN ISLAND</td>\n",
       "      <td>NY</td>\n",
       "      <td>Club/Bar/Restaurant</td>\n",
       "      <td>10308</td>\n",
       "      <td>STATEN ISLAND</td>\n",
       "      <td>40.544209</td>\n",
       "      <td>-74.141040</td>\n",
       "      <td>21</td>\n",
       "    </tr>\n",
       "    <tr>\n",
       "      <th>3</th>\n",
       "      <td>MANHATTAN</td>\n",
       "      <td>NY</td>\n",
       "      <td>Club/Bar/Restaurant</td>\n",
       "      <td>10034</td>\n",
       "      <td>New York</td>\n",
       "      <td>40.866376</td>\n",
       "      <td>-73.928258</td>\n",
       "      <td>160</td>\n",
       "    </tr>\n",
       "    <tr>\n",
       "      <th>4</th>\n",
       "      <td>BROOKLYN</td>\n",
       "      <td>NY</td>\n",
       "      <td>Club/Bar/Restaurant</td>\n",
       "      <td>11220</td>\n",
       "      <td>NaN</td>\n",
       "      <td>40.635207</td>\n",
       "      <td>-74.020285</td>\n",
       "      <td>17</td>\n",
       "    </tr>\n",
       "    <tr>\n",
       "      <th>...</th>\n",
       "      <td>...</td>\n",
       "      <td>...</td>\n",
       "      <td>...</td>\n",
       "      <td>...</td>\n",
       "      <td>...</td>\n",
       "      <td>...</td>\n",
       "      <td>...</td>\n",
       "      <td>...</td>\n",
       "    </tr>\n",
       "    <tr>\n",
       "      <th>2442</th>\n",
       "      <td>BROOKLYN</td>\n",
       "      <td>NY</td>\n",
       "      <td>Club/Bar/Restaurant</td>\n",
       "      <td>11211</td>\n",
       "      <td>NaN</td>\n",
       "      <td>40.711765</td>\n",
       "      <td>-73.942687</td>\n",
       "      <td>16</td>\n",
       "    </tr>\n",
       "    <tr>\n",
       "      <th>2443</th>\n",
       "      <td>QUEENS</td>\n",
       "      <td>NY</td>\n",
       "      <td>Club/Bar/Restaurant</td>\n",
       "      <td>11104</td>\n",
       "      <td>SUNNYSIDE</td>\n",
       "      <td>40.740725</td>\n",
       "      <td>-73.923911</td>\n",
       "      <td>17</td>\n",
       "    </tr>\n",
       "    <tr>\n",
       "      <th>2444</th>\n",
       "      <td>MANHATTAN</td>\n",
       "      <td>NY</td>\n",
       "      <td>Club/Bar/Restaurant</td>\n",
       "      <td>10012</td>\n",
       "      <td>NEW YORK</td>\n",
       "      <td>40.729859</td>\n",
       "      <td>-74.000592</td>\n",
       "      <td>17</td>\n",
       "    </tr>\n",
       "    <tr>\n",
       "      <th>2445</th>\n",
       "      <td>STATEN ISLAND</td>\n",
       "      <td>NY</td>\n",
       "      <td>Club/Bar/Restaurant</td>\n",
       "      <td>10304</td>\n",
       "      <td>STATEN ISLAND</td>\n",
       "      <td>40.628744</td>\n",
       "      <td>-74.079935</td>\n",
       "      <td>11</td>\n",
       "    </tr>\n",
       "    <tr>\n",
       "      <th>2446</th>\n",
       "      <td>QUEENS</td>\n",
       "      <td>NY</td>\n",
       "      <td>Club/Bar/Restaurant</td>\n",
       "      <td>11423</td>\n",
       "      <td>HOLLIS</td>\n",
       "      <td>40.711692</td>\n",
       "      <td>-73.769709</td>\n",
       "      <td>11</td>\n",
       "    </tr>\n",
       "  </tbody>\n",
       "</table>\n",
       "<p>2447 rows × 8 columns</p>\n",
       "</div>"
      ],
      "text/plain": [
       "            Borough State                  LOC     ZC           CITY  \\\n",
       "0     STATEN ISLAND    NY  Club/Bar/Restaurant  10308  STATEN ISLAND   \n",
       "1         MANHATTAN    NY  Club/Bar/Restaurant  10012       NEW YORK   \n",
       "2     STATEN ISLAND    NY  Club/Bar/Restaurant  10308  STATEN ISLAND   \n",
       "3         MANHATTAN    NY  Club/Bar/Restaurant  10034       New York   \n",
       "4          BROOKLYN    NY  Club/Bar/Restaurant  11220            NaN   \n",
       "...             ...   ...                  ...    ...            ...   \n",
       "2442       BROOKLYN    NY  Club/Bar/Restaurant  11211            NaN   \n",
       "2443         QUEENS    NY  Club/Bar/Restaurant  11104      SUNNYSIDE   \n",
       "2444      MANHATTAN    NY  Club/Bar/Restaurant  10012       NEW YORK   \n",
       "2445  STATEN ISLAND    NY  Club/Bar/Restaurant  10304  STATEN ISLAND   \n",
       "2446         QUEENS    NY  Club/Bar/Restaurant  11423         HOLLIS   \n",
       "\n",
       "            LAT       LONG num_calls  \n",
       "0     40.544096 -74.141155         0  \n",
       "1     40.729793 -73.998842        18  \n",
       "2     40.544209 -74.141040        21  \n",
       "3     40.866376 -73.928258       160  \n",
       "4     40.635207 -74.020285        17  \n",
       "...         ...        ...       ...  \n",
       "2442  40.711765 -73.942687        16  \n",
       "2443  40.740725 -73.923911        17  \n",
       "2444  40.729859 -74.000592        17  \n",
       "2445  40.628744 -74.079935        11  \n",
       "2446  40.711692 -73.769709        11  \n",
       "\n",
       "[2447 rows x 8 columns]"
      ]
     },
     "execution_count": 43,
     "metadata": {},
     "output_type": "execute_result"
    }
   ],
   "source": [
    "# Drop the original \"BOUROUGHS_STATE\" column from DataFrame\n",
    "split_cc.drop(columns=['BOUROUGHS_STATE'])"
   ]
  },
  {
   "cell_type": "markdown",
   "metadata": {},
   "source": [
    "### Rename columns in a Pandas DataFrame\n",
    "\n",
    "- [pandas.DataFrame.rename](https://pandas.pydata.org/pandas-docs/stable/reference/api/pandas.DataFrame.rename.html)\n",
    "      - Accepts a dictionary of key/values pairs to rename columns in a Pandas DataFrame\n",
    "      - Key Parameter: columns"
   ]
  },
  {
   "cell_type": "code",
   "execution_count": 193,
   "metadata": {
    "ExecuteTime": {
     "end_time": "2020-11-10T21:58:10.272231Z",
     "start_time": "2020-11-10T21:58:10.268094Z"
    }
   },
   "outputs": [
    {
     "data": {
      "text/html": [
       "<div>\n",
       "<style scoped>\n",
       "    .dataframe tbody tr th:only-of-type {\n",
       "        vertical-align: middle;\n",
       "    }\n",
       "\n",
       "    .dataframe tbody tr th {\n",
       "        vertical-align: top;\n",
       "    }\n",
       "\n",
       "    .dataframe thead th {\n",
       "        text-align: right;\n",
       "    }\n",
       "</style>\n",
       "<table border=\"1\" class=\"dataframe\">\n",
       "  <thead>\n",
       "    <tr style=\"text-align: right;\">\n",
       "      <th></th>\n",
       "      <th>LOCATION</th>\n",
       "      <th>ZIPCODE</th>\n",
       "      <th>CITY</th>\n",
       "      <th>COUNTY</th>\n",
       "      <th>LAT</th>\n",
       "      <th>LONG</th>\n",
       "      <th>num_calls</th>\n",
       "    </tr>\n",
       "  </thead>\n",
       "  <tbody>\n",
       "    <tr>\n",
       "      <th>0</th>\n",
       "      <td>Club/Bar/Restaurant</td>\n",
       "      <td>10308</td>\n",
       "      <td>STATEN ISLAND</td>\n",
       "      <td>STATEN ISLAND, NY</td>\n",
       "      <td>40.544096</td>\n",
       "      <td>-74.141155</td>\n",
       "      <td>0</td>\n",
       "    </tr>\n",
       "    <tr>\n",
       "      <th>1</th>\n",
       "      <td>Club/Bar/Restaurant</td>\n",
       "      <td>10012</td>\n",
       "      <td>NEW YORK</td>\n",
       "      <td>MANHATTAN, NY</td>\n",
       "      <td>40.729793</td>\n",
       "      <td>-73.998842</td>\n",
       "      <td>18</td>\n",
       "    </tr>\n",
       "    <tr>\n",
       "      <th>2</th>\n",
       "      <td>Club/Bar/Restaurant</td>\n",
       "      <td>10308</td>\n",
       "      <td>STATEN ISLAND</td>\n",
       "      <td>STATEN ISLAND, NY</td>\n",
       "      <td>40.544209</td>\n",
       "      <td>-74.141040</td>\n",
       "      <td>21</td>\n",
       "    </tr>\n",
       "    <tr>\n",
       "      <th>3</th>\n",
       "      <td>Club/Bar/Restaurant</td>\n",
       "      <td>10034</td>\n",
       "      <td>New York</td>\n",
       "      <td>MANHATTAN, NY</td>\n",
       "      <td>40.866376</td>\n",
       "      <td>-73.928258</td>\n",
       "      <td>160</td>\n",
       "    </tr>\n",
       "    <tr>\n",
       "      <th>4</th>\n",
       "      <td>Club/Bar/Restaurant</td>\n",
       "      <td>11220</td>\n",
       "      <td>NaN</td>\n",
       "      <td>BROOKLYN, NY</td>\n",
       "      <td>40.635207</td>\n",
       "      <td>-74.020285</td>\n",
       "      <td>17</td>\n",
       "    </tr>\n",
       "    <tr>\n",
       "      <th>...</th>\n",
       "      <td>...</td>\n",
       "      <td>...</td>\n",
       "      <td>...</td>\n",
       "      <td>...</td>\n",
       "      <td>...</td>\n",
       "      <td>...</td>\n",
       "      <td>...</td>\n",
       "    </tr>\n",
       "    <tr>\n",
       "      <th>2442</th>\n",
       "      <td>Club/Bar/Restaurant</td>\n",
       "      <td>11211</td>\n",
       "      <td>NaN</td>\n",
       "      <td>BROOKLYN, NY</td>\n",
       "      <td>40.711765</td>\n",
       "      <td>-73.942687</td>\n",
       "      <td>16</td>\n",
       "    </tr>\n",
       "    <tr>\n",
       "      <th>2443</th>\n",
       "      <td>Club/Bar/Restaurant</td>\n",
       "      <td>11104</td>\n",
       "      <td>SUNNYSIDE</td>\n",
       "      <td>QUEENS, NY</td>\n",
       "      <td>40.740725</td>\n",
       "      <td>-73.923911</td>\n",
       "      <td>17</td>\n",
       "    </tr>\n",
       "    <tr>\n",
       "      <th>2444</th>\n",
       "      <td>Club/Bar/Restaurant</td>\n",
       "      <td>10012</td>\n",
       "      <td>NEW YORK</td>\n",
       "      <td>MANHATTAN, NY</td>\n",
       "      <td>40.729859</td>\n",
       "      <td>-74.000592</td>\n",
       "      <td>17</td>\n",
       "    </tr>\n",
       "    <tr>\n",
       "      <th>2445</th>\n",
       "      <td>Club/Bar/Restaurant</td>\n",
       "      <td>10304</td>\n",
       "      <td>STATEN ISLAND</td>\n",
       "      <td>STATEN ISLAND, NY</td>\n",
       "      <td>40.628744</td>\n",
       "      <td>-74.079935</td>\n",
       "      <td>11</td>\n",
       "    </tr>\n",
       "    <tr>\n",
       "      <th>2446</th>\n",
       "      <td>Club/Bar/Restaurant</td>\n",
       "      <td>11423</td>\n",
       "      <td>HOLLIS</td>\n",
       "      <td>QUEENS, NY</td>\n",
       "      <td>40.711692</td>\n",
       "      <td>-73.769709</td>\n",
       "      <td>11</td>\n",
       "    </tr>\n",
       "  </tbody>\n",
       "</table>\n",
       "<p>2447 rows × 7 columns</p>\n",
       "</div>"
      ],
      "text/plain": [
       "                 LOCATION  ZIPCODE           CITY             COUNTY  \\\n",
       "0     Club/Bar/Restaurant    10308  STATEN ISLAND  STATEN ISLAND, NY   \n",
       "1     Club/Bar/Restaurant    10012       NEW YORK      MANHATTAN, NY   \n",
       "2     Club/Bar/Restaurant    10308  STATEN ISLAND  STATEN ISLAND, NY   \n",
       "3     Club/Bar/Restaurant    10034       New York      MANHATTAN, NY   \n",
       "4     Club/Bar/Restaurant    11220            NaN       BROOKLYN, NY   \n",
       "...                   ...      ...            ...                ...   \n",
       "2442  Club/Bar/Restaurant    11211            NaN       BROOKLYN, NY   \n",
       "2443  Club/Bar/Restaurant    11104      SUNNYSIDE         QUEENS, NY   \n",
       "2444  Club/Bar/Restaurant    10012       NEW YORK      MANHATTAN, NY   \n",
       "2445  Club/Bar/Restaurant    10304  STATEN ISLAND  STATEN ISLAND, NY   \n",
       "2446  Club/Bar/Restaurant    11423         HOLLIS         QUEENS, NY   \n",
       "\n",
       "            LAT       LONG num_calls  \n",
       "0     40.544096 -74.141155         0  \n",
       "1     40.729793 -73.998842        18  \n",
       "2     40.544209 -74.141040        21  \n",
       "3     40.866376 -73.928258       160  \n",
       "4     40.635207 -74.020285        17  \n",
       "...         ...        ...       ...  \n",
       "2442  40.711765 -73.942687        16  \n",
       "2443  40.740725 -73.923911        17  \n",
       "2444  40.729859 -74.000592        17  \n",
       "2445  40.628744 -74.079935        11  \n",
       "2446  40.711692 -73.769709        11  \n",
       "\n",
       "[2447 rows x 7 columns]"
      ]
     },
     "execution_count": 193,
     "metadata": {},
     "output_type": "execute_result"
    }
   ],
   "source": [
    "# Pass a dictionary of key:values pairs to the columns parameter of the \"rename\" method\n",
    "#cc.rename(columns={'BOUROUGHS_STATE':'COUNTY',\n",
    "                   #'LOC': 'LOCATION'}, inplace=True)\n",
    "#cc\n",
    "cc.rename(columns={'COUNTRY':'COUNTY',\n",
    "                   'ZC': 'ZIPCODE'}, inplace=True)\n",
    "cc"
   ]
  },
  {
   "cell_type": "code",
   "execution_count": null,
   "metadata": {
    "ExecuteTime": {
     "end_time": "2020-11-10T21:58:10.278099Z",
     "start_time": "2020-11-10T21:58:10.274166Z"
    },
    "scrolled": true
   },
   "outputs": [],
   "source": [
    "# Check your work\n"
   ]
  },
  {
   "cell_type": "markdown",
   "metadata": {},
   "source": [
    "### Reorder columns in a Pandas DataFrame\n",
    "\n",
    "- [pandas.DataFrame.reindex](https://pandas.pydata.org/pandas-docs/stable/reference/api/pandas.DataFrame.reindex.html)\n",
    "      - Can be used to reorder columns in a Pandas DataFrame\n",
    "      - Key Parameter: columns"
   ]
  },
  {
   "cell_type": "code",
   "execution_count": 197,
   "metadata": {
    "ExecuteTime": {
     "end_time": "2020-11-10T21:58:10.284875Z",
     "start_time": "2020-11-10T21:58:10.280315Z"
    }
   },
   "outputs": [
    {
     "data": {
      "text/html": [
       "<div>\n",
       "<style scoped>\n",
       "    .dataframe tbody tr th:only-of-type {\n",
       "        vertical-align: middle;\n",
       "    }\n",
       "\n",
       "    .dataframe tbody tr th {\n",
       "        vertical-align: top;\n",
       "    }\n",
       "\n",
       "    .dataframe thead th {\n",
       "        text-align: right;\n",
       "    }\n",
       "</style>\n",
       "<table border=\"1\" class=\"dataframe\">\n",
       "  <thead>\n",
       "    <tr style=\"text-align: right;\">\n",
       "      <th></th>\n",
       "      <th>LOCATION</th>\n",
       "      <th>CITY</th>\n",
       "      <th>COUNTY</th>\n",
       "      <th>ZIPCODE</th>\n",
       "      <th>LAT</th>\n",
       "      <th>LONG</th>\n",
       "      <th>num_calls</th>\n",
       "    </tr>\n",
       "  </thead>\n",
       "  <tbody>\n",
       "    <tr>\n",
       "      <th>0</th>\n",
       "      <td>Club/Bar/Restaurant</td>\n",
       "      <td>STATEN ISLAND</td>\n",
       "      <td>STATEN ISLAND, NY</td>\n",
       "      <td>10308</td>\n",
       "      <td>40.544096</td>\n",
       "      <td>-74.141155</td>\n",
       "      <td>0</td>\n",
       "    </tr>\n",
       "    <tr>\n",
       "      <th>1</th>\n",
       "      <td>Club/Bar/Restaurant</td>\n",
       "      <td>NEW YORK</td>\n",
       "      <td>MANHATTAN, NY</td>\n",
       "      <td>10012</td>\n",
       "      <td>40.729793</td>\n",
       "      <td>-73.998842</td>\n",
       "      <td>18</td>\n",
       "    </tr>\n",
       "    <tr>\n",
       "      <th>2</th>\n",
       "      <td>Club/Bar/Restaurant</td>\n",
       "      <td>STATEN ISLAND</td>\n",
       "      <td>STATEN ISLAND, NY</td>\n",
       "      <td>10308</td>\n",
       "      <td>40.544209</td>\n",
       "      <td>-74.141040</td>\n",
       "      <td>21</td>\n",
       "    </tr>\n",
       "    <tr>\n",
       "      <th>3</th>\n",
       "      <td>Club/Bar/Restaurant</td>\n",
       "      <td>New York</td>\n",
       "      <td>MANHATTAN, NY</td>\n",
       "      <td>10034</td>\n",
       "      <td>40.866376</td>\n",
       "      <td>-73.928258</td>\n",
       "      <td>160</td>\n",
       "    </tr>\n",
       "    <tr>\n",
       "      <th>4</th>\n",
       "      <td>Club/Bar/Restaurant</td>\n",
       "      <td>NaN</td>\n",
       "      <td>BROOKLYN, NY</td>\n",
       "      <td>11220</td>\n",
       "      <td>40.635207</td>\n",
       "      <td>-74.020285</td>\n",
       "      <td>17</td>\n",
       "    </tr>\n",
       "    <tr>\n",
       "      <th>...</th>\n",
       "      <td>...</td>\n",
       "      <td>...</td>\n",
       "      <td>...</td>\n",
       "      <td>...</td>\n",
       "      <td>...</td>\n",
       "      <td>...</td>\n",
       "      <td>...</td>\n",
       "    </tr>\n",
       "    <tr>\n",
       "      <th>2442</th>\n",
       "      <td>Club/Bar/Restaurant</td>\n",
       "      <td>NaN</td>\n",
       "      <td>BROOKLYN, NY</td>\n",
       "      <td>11211</td>\n",
       "      <td>40.711765</td>\n",
       "      <td>-73.942687</td>\n",
       "      <td>16</td>\n",
       "    </tr>\n",
       "    <tr>\n",
       "      <th>2443</th>\n",
       "      <td>Club/Bar/Restaurant</td>\n",
       "      <td>SUNNYSIDE</td>\n",
       "      <td>QUEENS, NY</td>\n",
       "      <td>11104</td>\n",
       "      <td>40.740725</td>\n",
       "      <td>-73.923911</td>\n",
       "      <td>17</td>\n",
       "    </tr>\n",
       "    <tr>\n",
       "      <th>2444</th>\n",
       "      <td>Club/Bar/Restaurant</td>\n",
       "      <td>NEW YORK</td>\n",
       "      <td>MANHATTAN, NY</td>\n",
       "      <td>10012</td>\n",
       "      <td>40.729859</td>\n",
       "      <td>-74.000592</td>\n",
       "      <td>17</td>\n",
       "    </tr>\n",
       "    <tr>\n",
       "      <th>2445</th>\n",
       "      <td>Club/Bar/Restaurant</td>\n",
       "      <td>STATEN ISLAND</td>\n",
       "      <td>STATEN ISLAND, NY</td>\n",
       "      <td>10304</td>\n",
       "      <td>40.628744</td>\n",
       "      <td>-74.079935</td>\n",
       "      <td>11</td>\n",
       "    </tr>\n",
       "    <tr>\n",
       "      <th>2446</th>\n",
       "      <td>Club/Bar/Restaurant</td>\n",
       "      <td>HOLLIS</td>\n",
       "      <td>QUEENS, NY</td>\n",
       "      <td>11423</td>\n",
       "      <td>40.711692</td>\n",
       "      <td>-73.769709</td>\n",
       "      <td>11</td>\n",
       "    </tr>\n",
       "  </tbody>\n",
       "</table>\n",
       "<p>2447 rows × 7 columns</p>\n",
       "</div>"
      ],
      "text/plain": [
       "                 LOCATION           CITY             COUNTY  ZIPCODE  \\\n",
       "0     Club/Bar/Restaurant  STATEN ISLAND  STATEN ISLAND, NY    10308   \n",
       "1     Club/Bar/Restaurant       NEW YORK      MANHATTAN, NY    10012   \n",
       "2     Club/Bar/Restaurant  STATEN ISLAND  STATEN ISLAND, NY    10308   \n",
       "3     Club/Bar/Restaurant       New York      MANHATTAN, NY    10034   \n",
       "4     Club/Bar/Restaurant            NaN       BROOKLYN, NY    11220   \n",
       "...                   ...            ...                ...      ...   \n",
       "2442  Club/Bar/Restaurant            NaN       BROOKLYN, NY    11211   \n",
       "2443  Club/Bar/Restaurant      SUNNYSIDE         QUEENS, NY    11104   \n",
       "2444  Club/Bar/Restaurant       NEW YORK      MANHATTAN, NY    10012   \n",
       "2445  Club/Bar/Restaurant  STATEN ISLAND  STATEN ISLAND, NY    10304   \n",
       "2446  Club/Bar/Restaurant         HOLLIS         QUEENS, NY    11423   \n",
       "\n",
       "            LAT       LONG num_calls  \n",
       "0     40.544096 -74.141155         0  \n",
       "1     40.729793 -73.998842        18  \n",
       "2     40.544209 -74.141040        21  \n",
       "3     40.866376 -73.928258       160  \n",
       "4     40.635207 -74.020285        17  \n",
       "...         ...        ...       ...  \n",
       "2442  40.711765 -73.942687        16  \n",
       "2443  40.740725 -73.923911        17  \n",
       "2444  40.729859 -74.000592        17  \n",
       "2445  40.628744 -74.079935        11  \n",
       "2446  40.711692 -73.769709        11  \n",
       "\n",
       "[2447 rows x 7 columns]"
      ]
     },
     "execution_count": 197,
     "metadata": {},
     "output_type": "execute_result"
    }
   ],
   "source": [
    "# Pass a list of column names (as string) to the columns parameter of the \"reindex\" method\n",
    "\n",
    "cc.reindex(columns=['LOCATION','CITY','COUNTY','ZIPCODE','LAT','LONG','num_calls'])"
   ]
  },
  {
   "cell_type": "code",
   "execution_count": 195,
   "metadata": {
    "ExecuteTime": {
     "end_time": "2020-11-10T21:58:10.299785Z",
     "start_time": "2020-11-10T21:58:10.286605Z"
    },
    "scrolled": true
   },
   "outputs": [
    {
     "data": {
      "text/plain": [
       "Index(['LOCATION', 'ZIPCODE', 'CITY', 'COUNTY', 'LAT', 'LONG', 'num_calls'], dtype='object')"
      ]
     },
     "execution_count": 195,
     "metadata": {},
     "output_type": "execute_result"
    }
   ],
   "source": [
    "# Check your work\n",
    "cc.columns"
   ]
  },
  {
   "cell_type": "markdown",
   "metadata": {},
   "source": [
    "### Use `.describe()` to output descriptive statistic for the numeric columns in the Pandas DataFrame\n",
    "\n",
    "- [pandas.DataFrame.describe](https://pandas.pydata.org/pandas-docs/stable/reference/api/pandas.DataFrame.describe.html)\n",
    "      - Descriptive statistics summarizing the central tendency, dispersion and \n",
    "        shape of a dataset’s distribution, excluding NaN values."
   ]
  },
  {
   "cell_type": "code",
   "execution_count": 209,
   "metadata": {
    "ExecuteTime": {
     "end_time": "2020-11-10T21:58:10.327429Z",
     "start_time": "2020-11-10T21:58:10.308573Z"
    }
   },
   "outputs": [
    {
     "data": {
      "text/plain": [
       "count     2425\n",
       "unique     188\n",
       "top         10\n",
       "freq       187\n",
       "Name: num_calls, dtype: object"
      ]
     },
     "execution_count": 209,
     "metadata": {},
     "output_type": "execute_result"
    }
   ],
   "source": [
    "# The `describe()` method outputs descriptive statistics by default for the\n",
    "# numeric columns in the Pandas DataFrame.\n",
    "\n",
    "cc['num_calls'].describe()"
   ]
  },
  {
   "cell_type": "code",
   "execution_count": null,
   "metadata": {
    "ExecuteTime": {
     "end_time": "2020-11-10T21:58:10.335866Z",
     "start_time": "2020-11-10T21:58:10.329180Z"
    },
    "scrolled": true
   },
   "outputs": [],
   "source": [
    "# Setting a condition outputs a series of Booleans. \n",
    "# True if the condition is met, False if not\n"
   ]
  },
  {
   "cell_type": "code",
   "execution_count": 223,
   "metadata": {
    "ExecuteTime": {
     "end_time": "2020-11-10T21:58:10.348105Z",
     "start_time": "2020-11-10T21:58:10.337277Z"
    }
   },
   "outputs": [
    {
     "data": {
      "text/html": [
       "<div>\n",
       "<style scoped>\n",
       "    .dataframe tbody tr th:only-of-type {\n",
       "        vertical-align: middle;\n",
       "    }\n",
       "\n",
       "    .dataframe tbody tr th {\n",
       "        vertical-align: top;\n",
       "    }\n",
       "\n",
       "    .dataframe thead th {\n",
       "        text-align: right;\n",
       "    }\n",
       "</style>\n",
       "<table border=\"1\" class=\"dataframe\">\n",
       "  <thead>\n",
       "    <tr style=\"text-align: right;\">\n",
       "      <th></th>\n",
       "      <th>LOCATION</th>\n",
       "      <th>ZIPCODE</th>\n",
       "      <th>CITY</th>\n",
       "      <th>COUNTY</th>\n",
       "      <th>LAT</th>\n",
       "      <th>LONG</th>\n",
       "      <th>num_calls</th>\n",
       "    </tr>\n",
       "  </thead>\n",
       "  <tbody>\n",
       "    <tr>\n",
       "      <th>1048</th>\n",
       "      <td>Club/Bar/Restaurant</td>\n",
       "      <td>10036</td>\n",
       "      <td>NEW YORK</td>\n",
       "      <td>&lt;function is_efficient at 0x16468c4a0&gt;</td>\n",
       "      <td>-40.764281</td>\n",
       "      <td>-73.998581</td>\n",
       "      <td>10</td>\n",
       "    </tr>\n",
       "  </tbody>\n",
       "</table>\n",
       "</div>"
      ],
      "text/plain": [
       "                 LOCATION  ZIPCODE      CITY  \\\n",
       "1048  Club/Bar/Restaurant    10036  NEW YORK   \n",
       "\n",
       "                                      COUNTY        LAT       LONG num_calls  \n",
       "1048  <function is_efficient at 0x16468c4a0> -40.764281 -73.998581        10  "
      ]
     },
     "execution_count": 223,
     "metadata": {},
     "output_type": "execute_result"
    }
   ],
   "source": [
    "# Filtering the \"cc\" DataFrame by the condition of \"cc['latitude'] <= 0\"\n",
    "# will return the rows where that condition is met \n",
    "# (latitude values is less than or equal to zero)\n",
    "\n",
    "cc[cc['LAT']<=0]"
   ]
  },
  {
   "cell_type": "code",
   "execution_count": 227,
   "metadata": {
    "ExecuteTime": {
     "end_time": "2020-11-10T21:58:10.361313Z",
     "start_time": "2020-11-10T21:58:10.349740Z"
    },
    "scrolled": true
   },
   "outputs": [
    {
     "data": {
      "text/html": [
       "<div>\n",
       "<style scoped>\n",
       "    .dataframe tbody tr th:only-of-type {\n",
       "        vertical-align: middle;\n",
       "    }\n",
       "\n",
       "    .dataframe tbody tr th {\n",
       "        vertical-align: top;\n",
       "    }\n",
       "\n",
       "    .dataframe thead th {\n",
       "        text-align: right;\n",
       "    }\n",
       "</style>\n",
       "<table border=\"1\" class=\"dataframe\">\n",
       "  <thead>\n",
       "    <tr style=\"text-align: right;\">\n",
       "      <th></th>\n",
       "      <th>LOCATION</th>\n",
       "      <th>ZIPCODE</th>\n",
       "      <th>CITY</th>\n",
       "      <th>COUNTY</th>\n",
       "      <th>LAT</th>\n",
       "      <th>LONG</th>\n",
       "      <th>num_calls</th>\n",
       "    </tr>\n",
       "  </thead>\n",
       "  <tbody>\n",
       "    <tr>\n",
       "      <th>2339</th>\n",
       "      <td>Club/Bar/Restaurant</td>\n",
       "      <td>11237</td>\n",
       "      <td>NaN</td>\n",
       "      <td>None</td>\n",
       "      <td>40.704007</td>\n",
       "      <td>73.930575</td>\n",
       "      <td>14</td>\n",
       "    </tr>\n",
       "  </tbody>\n",
       "</table>\n",
       "</div>"
      ],
      "text/plain": [
       "                 LOCATION  ZIPCODE CITY COUNTY        LAT       LONG num_calls\n",
       "2339  Club/Bar/Restaurant    11237  NaN   None  40.704007  73.930575        14"
      ]
     },
     "execution_count": 227,
     "metadata": {},
     "output_type": "execute_result"
    }
   ],
   "source": [
    "# Now just flipping the sign around for the \"longitude\" Series (column) to output\n",
    "# the rows where the longitude value is greater than or equal to zero\n",
    "cc[cc['LONG']>=0]"
   ]
  },
  {
   "cell_type": "markdown",
   "metadata": {},
   "source": [
    "**`.loc` and `.iloc`**\n",
    "  - [Indexing and selecting data](https://pandas.pydata.org/pandas-docs/stable/user_guide/indexing.html)\n",
    "  - [Handy .loc and .iloc resource](https://www.shanelynn.ie/select-pandas-dataframe-rows-and-columns-using-iloc-loc-and-ix/)"
   ]
  },
  {
   "cell_type": "code",
   "execution_count": 233,
   "metadata": {
    "ExecuteTime": {
     "end_time": "2020-11-10T21:58:10.369185Z",
     "start_time": "2020-11-10T21:58:10.363029Z"
    }
   },
   "outputs": [],
   "source": [
    "# Fix the erroneous value in the \"longitude\" column\n",
    "cc.loc[2339,'LONG']=cc.loc[2339,'LONG']*-1 #format long/lat is not in the US (+)"
   ]
  },
  {
   "cell_type": "code",
   "execution_count": 239,
   "metadata": {
    "ExecuteTime": {
     "end_time": "2020-11-10T21:58:10.374442Z",
     "start_time": "2020-11-10T21:58:10.371040Z"
    }
   },
   "outputs": [],
   "source": [
    "# Fix the erroneous value in the \"latitude\" column\n",
    "cc.loc[1048,'LAT']=cc.loc[1048,'LAT']*-1"
   ]
  },
  {
   "cell_type": "markdown",
   "metadata": {},
   "source": [
    "**Always good to check your work...**"
   ]
  },
  {
   "cell_type": "code",
   "execution_count": 241,
   "metadata": {
    "ExecuteTime": {
     "end_time": "2020-11-10T21:58:10.384052Z",
     "start_time": "2020-11-10T21:58:10.375983Z"
    }
   },
   "outputs": [
    {
     "data": {
      "text/html": [
       "<div>\n",
       "<style scoped>\n",
       "    .dataframe tbody tr th:only-of-type {\n",
       "        vertical-align: middle;\n",
       "    }\n",
       "\n",
       "    .dataframe tbody tr th {\n",
       "        vertical-align: top;\n",
       "    }\n",
       "\n",
       "    .dataframe thead th {\n",
       "        text-align: right;\n",
       "    }\n",
       "</style>\n",
       "<table border=\"1\" class=\"dataframe\">\n",
       "  <thead>\n",
       "    <tr style=\"text-align: right;\">\n",
       "      <th></th>\n",
       "      <th>LOCATION</th>\n",
       "      <th>ZIPCODE</th>\n",
       "      <th>CITY</th>\n",
       "      <th>COUNTY</th>\n",
       "      <th>LAT</th>\n",
       "      <th>LONG</th>\n",
       "      <th>num_calls</th>\n",
       "    </tr>\n",
       "  </thead>\n",
       "  <tbody>\n",
       "  </tbody>\n",
       "</table>\n",
       "</div>"
      ],
      "text/plain": [
       "Empty DataFrame\n",
       "Columns: [LOCATION, ZIPCODE, CITY, COUNTY, LAT, LONG, num_calls]\n",
       "Index: []"
      ]
     },
     "execution_count": 241,
     "metadata": {},
     "output_type": "execute_result"
    }
   ],
   "source": [
    "# Check the \"longitude\" column again for any erroneous values\n",
    "cc[cc['LAT']<=0]"
   ]
  },
  {
   "cell_type": "code",
   "execution_count": 243,
   "metadata": {
    "ExecuteTime": {
     "end_time": "2020-11-10T21:58:10.394140Z",
     "start_time": "2020-11-10T21:58:10.385464Z"
    }
   },
   "outputs": [
    {
     "data": {
      "text/html": [
       "<div>\n",
       "<style scoped>\n",
       "    .dataframe tbody tr th:only-of-type {\n",
       "        vertical-align: middle;\n",
       "    }\n",
       "\n",
       "    .dataframe tbody tr th {\n",
       "        vertical-align: top;\n",
       "    }\n",
       "\n",
       "    .dataframe thead th {\n",
       "        text-align: right;\n",
       "    }\n",
       "</style>\n",
       "<table border=\"1\" class=\"dataframe\">\n",
       "  <thead>\n",
       "    <tr style=\"text-align: right;\">\n",
       "      <th></th>\n",
       "      <th>LOCATION</th>\n",
       "      <th>ZIPCODE</th>\n",
       "      <th>CITY</th>\n",
       "      <th>COUNTY</th>\n",
       "      <th>LAT</th>\n",
       "      <th>LONG</th>\n",
       "      <th>num_calls</th>\n",
       "    </tr>\n",
       "  </thead>\n",
       "  <tbody>\n",
       "    <tr>\n",
       "      <th>1048</th>\n",
       "      <td>Club/Bar/Restaurant</td>\n",
       "      <td>10036</td>\n",
       "      <td>NEW YORK</td>\n",
       "      <td>&lt;function is_efficient at 0x16468c4a0&gt;</td>\n",
       "      <td>40.764281</td>\n",
       "      <td>40.764281</td>\n",
       "      <td>10</td>\n",
       "    </tr>\n",
       "    <tr>\n",
       "      <th>2339</th>\n",
       "      <td>Club/Bar/Restaurant</td>\n",
       "      <td>11237</td>\n",
       "      <td>NaN</td>\n",
       "      <td>None</td>\n",
       "      <td>40.704007</td>\n",
       "      <td>40.764281</td>\n",
       "      <td>14</td>\n",
       "    </tr>\n",
       "  </tbody>\n",
       "</table>\n",
       "</div>"
      ],
      "text/plain": [
       "                 LOCATION  ZIPCODE      CITY  \\\n",
       "1048  Club/Bar/Restaurant    10036  NEW YORK   \n",
       "2339  Club/Bar/Restaurant    11237       NaN   \n",
       "\n",
       "                                      COUNTY        LAT       LONG num_calls  \n",
       "1048  <function is_efficient at 0x16468c4a0>  40.764281  40.764281        10  \n",
       "2339                                    None  40.704007  40.764281        14  "
      ]
     },
     "execution_count": 243,
     "metadata": {},
     "output_type": "execute_result"
    }
   ],
   "source": [
    "# Check the \"latitude\" column again for any erroneous values\n",
    "cc[cc['LONG']>=0]"
   ]
  },
  {
   "cell_type": "markdown",
   "metadata": {},
   "source": [
    "### We can write all this work back to a csv file if we wish to. \n",
    "\n",
    "- [pandas.DataFrame.to_csv](https://pandas.pydata.org/pandas-docs/stable/reference/api/pandas.DataFrame.to_csv.html)\n",
    "      - Key Parameter: index (bool), default True\n",
    "         - Write row names (index)"
   ]
  },
  {
   "cell_type": "code",
   "execution_count": 245,
   "metadata": {
    "ExecuteTime": {
     "end_time": "2020-11-10T21:58:10.417724Z",
     "start_time": "2020-11-10T21:58:10.396279Z"
    }
   },
   "outputs": [
    {
     "data": {
      "text/plain": [
       "<bound method NDFrame.to_csv of                  LOCATION  ZIPCODE           CITY COUNTY        LAT  \\\n",
       "0     Club/Bar/Restaurant    10308  STATEN ISLAND   None  40.544096   \n",
       "1     Club/Bar/Restaurant    10012       NEW YORK   None  40.729793   \n",
       "2     Club/Bar/Restaurant    10308  STATEN ISLAND   None  40.544209   \n",
       "3     Club/Bar/Restaurant    10034       New York   None  40.866376   \n",
       "4     Club/Bar/Restaurant    11220            NaN   None  40.635207   \n",
       "...                   ...      ...            ...    ...        ...   \n",
       "2442  Club/Bar/Restaurant    11211            NaN   None  40.711765   \n",
       "2443  Club/Bar/Restaurant    11104      SUNNYSIDE   None  40.740725   \n",
       "2444  Club/Bar/Restaurant    10012       NEW YORK   None  40.729859   \n",
       "2445  Club/Bar/Restaurant    10304  STATEN ISLAND   None  40.628744   \n",
       "2446  Club/Bar/Restaurant    11423         HOLLIS   None  40.711692   \n",
       "\n",
       "           LONG num_calls  \n",
       "0    -74.141155         0  \n",
       "1    -73.998842        18  \n",
       "2    -74.141040        21  \n",
       "3    -73.928258       160  \n",
       "4    -74.020285        17  \n",
       "...         ...       ...  \n",
       "2442 -73.942687        16  \n",
       "2443 -73.923911        17  \n",
       "2444 -74.000592        17  \n",
       "2445 -74.079935        11  \n",
       "2446 -73.769709        11  \n",
       "\n",
       "[2447 rows x 7 columns]>"
      ]
     },
     "execution_count": 245,
     "metadata": {},
     "output_type": "execute_result"
    }
   ],
   "source": [
    "# Write the cleaned up Pandas DataFrame to a comma-separated values (csv) file\n",
    "cc.to_csv"
   ]
  },
  {
   "cell_type": "code",
   "execution_count": null,
   "metadata": {},
   "outputs": [],
   "source": []
  }
 ],
 "metadata": {
  "kernelspec": {
   "display_name": "Python 3 (ipykernel)",
   "language": "python",
   "name": "python3"
  },
  "language_info": {
   "codemirror_mode": {
    "name": "ipython",
    "version": 3
   },
   "file_extension": ".py",
   "mimetype": "text/x-python",
   "name": "python",
   "nbconvert_exporter": "python",
   "pygments_lexer": "ipython3",
   "version": "3.12.4"
  }
 },
 "nbformat": 4,
 "nbformat_minor": 4
}
